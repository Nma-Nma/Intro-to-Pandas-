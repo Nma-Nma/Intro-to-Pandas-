{
 "cells": [
  {
   "cell_type": "markdown",
   "id": "402b9e09",
   "metadata": {},
   "source": [
    "Pandas is a versatile library that simplifies tasks of data manipulation in python. It is built on the NumPy library and is thus well suited for working with tabular data and spreadsheets. Pandas can be used together with other data science libraries such as Matplotlib (for plotting), Scipy (for statistical analysis) and Scikit-learn (for building machine learning models).\n",
    "During the course of this project, the main uses of Pandas will be explored using the fifa dataset. The main uses are Data Wrangling and Data Visualization."
   ]
  },
  {
   "cell_type": "markdown",
   "id": "86278334",
   "metadata": {},
   "source": [
    "# Installing Pandas"
   ]
  },
  {
   "cell_type": "markdown",
   "id": "c39653e2",
   "metadata": {},
   "source": [
    "The Pandas library is installed using the pip command.\n",
    "Type cmd in the search box, \n",
    "Open the command line and in it type pip install pandas."
   ]
  },
  {
   "cell_type": "markdown",
   "id": "4864a7f5",
   "metadata": {},
   "source": [
    "# Importing Pandas"
   ]
  },
  {
   "cell_type": "markdown",
   "id": "39d72d56",
   "metadata": {},
   "source": [
    "Pandas is imported using the alias pd. This increases code readability and reduces the amount of code written.\n",
    "To import pandas in your IDE or notebook, type;\n",
    "Import pandas as pd"
   ]
  },
  {
   "cell_type": "markdown",
   "id": "f76d80bf",
   "metadata": {},
   "source": [
    "# Working with Pandas - Data Wrangling"
   ]
  },
  {
   "cell_type": "markdown",
   "id": "08ac48ce",
   "metadata": {},
   "source": [
    "# Creating a dataframe \n"
   ]
  },
  {
   "cell_type": "code",
   "execution_count": 1,
   "id": "20e7be84",
   "metadata": {},
   "outputs": [],
   "source": [
    "import pandas as pd"
   ]
  },
  {
   "cell_type": "code",
   "execution_count": 2,
   "id": "5ebe6953",
   "metadata": {},
   "outputs": [],
   "source": [
    "#Using Nested lists\n",
    "auto = [[95,'Ferrari','ITA'],[99,'Mercedes-Benz','GER'],[90,'Toyota','JPY']] #3 lists in a list\n",
    "index = ['1','2','3']   #indices of the dataframe is indicated\n",
    "columns = ['Ratings','Brand','Country of Origin'] #names of columns are indicated\n",
    "cars = pd.DataFrame (data = auto, index = index, columns = columns)# the dataframe is created using the data,index and columns arguments\n"
   ]
  },
  {
   "cell_type": "code",
   "execution_count": 3,
   "id": "843edf92",
   "metadata": {},
   "outputs": [],
   "source": [
    "#Using numpy arrays\n",
    "import numpy as np\n",
    "epl = np.array ([[9, 'Haaland','Manchester City'],[8,'Fernandes','Manchester United'],[11,'Martinelli','Arsenal']])#creating a nested list\n",
    "index = ['Mancity','Manunited','Ars']#indices of the dataframe is indicated\n",
    "columns = ['Player_no','Player','Club']#names of columns are indicated\n",
    "players = pd.DataFrame (data = epl, index = index, columns = columns)# the dataframe is created using the data,index and columns arguments\n"
   ]
  },
  {
   "cell_type": "code",
   "execution_count": 4,
   "id": "9913628d",
   "metadata": {},
   "outputs": [],
   "source": [
    "#Using dictionaries\n",
    "laliga = {'Name' : ['Bellingham','Lewandoski','Greizman'], \n",
    "          'Country': ['England','Poland','France'],'Club':['Real Madrid','Barcelona','Real Madrid']}#create  key-value pairs\n",
    "index = [5,9,8]#indices of the dataframe is indicated\n",
    "columns = ['Name','Country','Club']#names of columns are indicated\n",
    "players_laliga = pd.DataFrame (data = laliga, index = index, columns = columns)# the dataframe is created using the data,index and columns arguments\n"
   ]
  },
  {
   "cell_type": "markdown",
   "id": "941a0cd2",
   "metadata": {},
   "source": [
    "# Loading a dataset"
   ]
  },
  {
   "cell_type": "markdown",
   "id": "adb86326",
   "metadata": {},
   "source": [
    "To load a dataset, we use the read_csv() available in python. After loading is complete, our dataset is now stored as a pandas dataframe"
   ]
  },
  {
   "cell_type": "code",
   "execution_count": 48,
   "id": "f33c5b7b",
   "metadata": {},
   "outputs": [
    {
     "name": "stderr",
     "output_type": "stream",
     "text": [
      "C:\\Users\\Chidinma\\anaconda3\\lib\\site-packages\\IPython\\core\\interactiveshell.py:3165: DtypeWarning: Columns (14,26) have mixed types.Specify dtype option on import or set low_memory=False.\n",
      "  has_raised = await self.run_ast_nodes(code_ast.body, cell_name,\n"
     ]
    }
   ],
   "source": [
    "fifa = pd.read_csv('fifa.csv')"
   ]
  },
  {
   "cell_type": "code",
   "execution_count": 6,
   "id": "fbfb9132",
   "metadata": {},
   "outputs": [
    {
     "data": {
      "text/html": [
       "<div>\n",
       "<style scoped>\n",
       "    .dataframe tbody tr th:only-of-type {\n",
       "        vertical-align: middle;\n",
       "    }\n",
       "\n",
       "    .dataframe tbody tr th {\n",
       "        vertical-align: top;\n",
       "    }\n",
       "\n",
       "    .dataframe thead th {\n",
       "        text-align: right;\n",
       "    }\n",
       "</style>\n",
       "<table border=\"1\" class=\"dataframe\">\n",
       "  <thead>\n",
       "    <tr style=\"text-align: right;\">\n",
       "      <th></th>\n",
       "      <th>Name</th>\n",
       "      <th>Age</th>\n",
       "      <th>Nationality</th>\n",
       "      <th>Overall</th>\n",
       "      <th>Acceleration</th>\n",
       "      <th>Aggression</th>\n",
       "      <th>Agility</th>\n",
       "      <th>Balance</th>\n",
       "      <th>Ball control</th>\n",
       "      <th>Composure</th>\n",
       "      <th>...</th>\n",
       "      <th>Short passing</th>\n",
       "      <th>Shot power</th>\n",
       "      <th>Sliding tackle</th>\n",
       "      <th>Sprint speed</th>\n",
       "      <th>Stamina</th>\n",
       "      <th>Standing tackle</th>\n",
       "      <th>Strength</th>\n",
       "      <th>Vision</th>\n",
       "      <th>Volleys</th>\n",
       "      <th>Preferred Positions</th>\n",
       "    </tr>\n",
       "  </thead>\n",
       "  <tbody>\n",
       "    <tr>\n",
       "      <th>0</th>\n",
       "      <td>Cristiano Ronaldo</td>\n",
       "      <td>32</td>\n",
       "      <td>Portugal</td>\n",
       "      <td>94</td>\n",
       "      <td>89</td>\n",
       "      <td>63</td>\n",
       "      <td>89</td>\n",
       "      <td>63</td>\n",
       "      <td>93</td>\n",
       "      <td>95</td>\n",
       "      <td>...</td>\n",
       "      <td>83</td>\n",
       "      <td>94</td>\n",
       "      <td>23</td>\n",
       "      <td>91</td>\n",
       "      <td>92</td>\n",
       "      <td>31</td>\n",
       "      <td>80</td>\n",
       "      <td>85</td>\n",
       "      <td>88</td>\n",
       "      <td>ST LW</td>\n",
       "    </tr>\n",
       "    <tr>\n",
       "      <th>1</th>\n",
       "      <td>L. Messi</td>\n",
       "      <td>30</td>\n",
       "      <td>Argentina</td>\n",
       "      <td>93</td>\n",
       "      <td>92</td>\n",
       "      <td>48</td>\n",
       "      <td>90</td>\n",
       "      <td>95</td>\n",
       "      <td>95</td>\n",
       "      <td>96</td>\n",
       "      <td>...</td>\n",
       "      <td>88</td>\n",
       "      <td>85</td>\n",
       "      <td>26</td>\n",
       "      <td>87</td>\n",
       "      <td>73</td>\n",
       "      <td>28</td>\n",
       "      <td>59</td>\n",
       "      <td>90</td>\n",
       "      <td>85</td>\n",
       "      <td>RW</td>\n",
       "    </tr>\n",
       "    <tr>\n",
       "      <th>2</th>\n",
       "      <td>Neymar</td>\n",
       "      <td>25</td>\n",
       "      <td>Brazil</td>\n",
       "      <td>92</td>\n",
       "      <td>94</td>\n",
       "      <td>56</td>\n",
       "      <td>96</td>\n",
       "      <td>82</td>\n",
       "      <td>95</td>\n",
       "      <td>92</td>\n",
       "      <td>...</td>\n",
       "      <td>81</td>\n",
       "      <td>80</td>\n",
       "      <td>33</td>\n",
       "      <td>90</td>\n",
       "      <td>78</td>\n",
       "      <td>24</td>\n",
       "      <td>53</td>\n",
       "      <td>80</td>\n",
       "      <td>83</td>\n",
       "      <td>LW</td>\n",
       "    </tr>\n",
       "    <tr>\n",
       "      <th>3</th>\n",
       "      <td>L. Suárez</td>\n",
       "      <td>30</td>\n",
       "      <td>Uruguay</td>\n",
       "      <td>92</td>\n",
       "      <td>88</td>\n",
       "      <td>78</td>\n",
       "      <td>86</td>\n",
       "      <td>60</td>\n",
       "      <td>91</td>\n",
       "      <td>83</td>\n",
       "      <td>...</td>\n",
       "      <td>83</td>\n",
       "      <td>87</td>\n",
       "      <td>38</td>\n",
       "      <td>77</td>\n",
       "      <td>89</td>\n",
       "      <td>45</td>\n",
       "      <td>80</td>\n",
       "      <td>84</td>\n",
       "      <td>88</td>\n",
       "      <td>ST</td>\n",
       "    </tr>\n",
       "    <tr>\n",
       "      <th>4</th>\n",
       "      <td>M. Neuer</td>\n",
       "      <td>31</td>\n",
       "      <td>Germany</td>\n",
       "      <td>92</td>\n",
       "      <td>58</td>\n",
       "      <td>29</td>\n",
       "      <td>52</td>\n",
       "      <td>35</td>\n",
       "      <td>48</td>\n",
       "      <td>70</td>\n",
       "      <td>...</td>\n",
       "      <td>55</td>\n",
       "      <td>25</td>\n",
       "      <td>11</td>\n",
       "      <td>61</td>\n",
       "      <td>44</td>\n",
       "      <td>10</td>\n",
       "      <td>83</td>\n",
       "      <td>70</td>\n",
       "      <td>11</td>\n",
       "      <td>GK</td>\n",
       "    </tr>\n",
       "    <tr>\n",
       "      <th>...</th>\n",
       "      <td>...</td>\n",
       "      <td>...</td>\n",
       "      <td>...</td>\n",
       "      <td>...</td>\n",
       "      <td>...</td>\n",
       "      <td>...</td>\n",
       "      <td>...</td>\n",
       "      <td>...</td>\n",
       "      <td>...</td>\n",
       "      <td>...</td>\n",
       "      <td>...</td>\n",
       "      <td>...</td>\n",
       "      <td>...</td>\n",
       "      <td>...</td>\n",
       "      <td>...</td>\n",
       "      <td>...</td>\n",
       "      <td>...</td>\n",
       "      <td>...</td>\n",
       "      <td>...</td>\n",
       "      <td>...</td>\n",
       "      <td>...</td>\n",
       "    </tr>\n",
       "    <tr>\n",
       "      <th>17976</th>\n",
       "      <td>A. Kelsey</td>\n",
       "      <td>17</td>\n",
       "      <td>England</td>\n",
       "      <td>46</td>\n",
       "      <td>24</td>\n",
       "      <td>16</td>\n",
       "      <td>38</td>\n",
       "      <td>26</td>\n",
       "      <td>12</td>\n",
       "      <td>23</td>\n",
       "      <td>...</td>\n",
       "      <td>19</td>\n",
       "      <td>19</td>\n",
       "      <td>10</td>\n",
       "      <td>32</td>\n",
       "      <td>28</td>\n",
       "      <td>11</td>\n",
       "      <td>50</td>\n",
       "      <td>26</td>\n",
       "      <td>6</td>\n",
       "      <td>GK</td>\n",
       "    </tr>\n",
       "    <tr>\n",
       "      <th>17977</th>\n",
       "      <td>B. Richardson</td>\n",
       "      <td>47</td>\n",
       "      <td>England</td>\n",
       "      <td>46</td>\n",
       "      <td>25</td>\n",
       "      <td>44</td>\n",
       "      <td>35</td>\n",
       "      <td>44</td>\n",
       "      <td>22</td>\n",
       "      <td>44</td>\n",
       "      <td>...</td>\n",
       "      <td>12</td>\n",
       "      <td>13</td>\n",
       "      <td>13</td>\n",
       "      <td>25</td>\n",
       "      <td>32</td>\n",
       "      <td>12</td>\n",
       "      <td>47</td>\n",
       "      <td>17</td>\n",
       "      <td>12</td>\n",
       "      <td>GK</td>\n",
       "    </tr>\n",
       "    <tr>\n",
       "      <th>17978</th>\n",
       "      <td>J. Young</td>\n",
       "      <td>17</td>\n",
       "      <td>Scotland</td>\n",
       "      <td>46</td>\n",
       "      <td>66</td>\n",
       "      <td>26</td>\n",
       "      <td>60</td>\n",
       "      <td>77</td>\n",
       "      <td>41</td>\n",
       "      <td>50</td>\n",
       "      <td>...</td>\n",
       "      <td>42</td>\n",
       "      <td>42</td>\n",
       "      <td>14</td>\n",
       "      <td>51</td>\n",
       "      <td>33</td>\n",
       "      <td>17</td>\n",
       "      <td>32</td>\n",
       "      <td>37</td>\n",
       "      <td>33</td>\n",
       "      <td>ST</td>\n",
       "    </tr>\n",
       "    <tr>\n",
       "      <th>17979</th>\n",
       "      <td>J. Lundstram</td>\n",
       "      <td>18</td>\n",
       "      <td>England</td>\n",
       "      <td>46</td>\n",
       "      <td>57</td>\n",
       "      <td>46</td>\n",
       "      <td>58</td>\n",
       "      <td>74</td>\n",
       "      <td>43</td>\n",
       "      <td>45</td>\n",
       "      <td>...</td>\n",
       "      <td>49</td>\n",
       "      <td>43</td>\n",
       "      <td>47</td>\n",
       "      <td>58</td>\n",
       "      <td>49</td>\n",
       "      <td>48</td>\n",
       "      <td>46</td>\n",
       "      <td>51</td>\n",
       "      <td>25</td>\n",
       "      <td>CM</td>\n",
       "    </tr>\n",
       "    <tr>\n",
       "      <th>17980</th>\n",
       "      <td>L. Sackey</td>\n",
       "      <td>18</td>\n",
       "      <td>Ghana</td>\n",
       "      <td>46</td>\n",
       "      <td>48</td>\n",
       "      <td>52</td>\n",
       "      <td>49</td>\n",
       "      <td>47</td>\n",
       "      <td>32</td>\n",
       "      <td>33</td>\n",
       "      <td>...</td>\n",
       "      <td>31</td>\n",
       "      <td>21</td>\n",
       "      <td>43</td>\n",
       "      <td>49</td>\n",
       "      <td>55</td>\n",
       "      <td>44</td>\n",
       "      <td>67</td>\n",
       "      <td>22</td>\n",
       "      <td>19</td>\n",
       "      <td>ST CB</td>\n",
       "    </tr>\n",
       "  </tbody>\n",
       "</table>\n",
       "<p>17981 rows × 39 columns</p>\n",
       "</div>"
      ],
      "text/plain": [
       "                    Name  Age Nationality  Overall Acceleration Aggression  \\\n",
       "0      Cristiano Ronaldo   32    Portugal       94       89         63       \n",
       "1               L. Messi   30   Argentina       93       92         48       \n",
       "2                 Neymar   25      Brazil       92       94         56       \n",
       "3              L. Suárez   30     Uruguay       92       88         78       \n",
       "4               M. Neuer   31     Germany       92       58         29       \n",
       "...                  ...  ...         ...      ...          ...        ...   \n",
       "17976          A. Kelsey   17     England       46       24         16       \n",
       "17977      B. Richardson   47     England       46       25         44       \n",
       "17978           J. Young   17    Scotland       46       66         26       \n",
       "17979       J. Lundstram   18     England       46       57         46       \n",
       "17980          L. Sackey   18       Ghana       46       48         52       \n",
       "\n",
       "      Agility Balance Ball control Composure  ... Short passing Shot power  \\\n",
       "0      89      63           93        95      ...        83         94       \n",
       "1      90      95           95        96      ...        88         85       \n",
       "2      96      82           95        92      ...        81         80       \n",
       "3      86      60           91        83      ...        83         87       \n",
       "4      52      35           48        70      ...        55         25       \n",
       "...       ...     ...          ...       ...  ...           ...        ...   \n",
       "17976  38      26           12        23      ...        19         19       \n",
       "17977  35      44           22        44      ...        12         13       \n",
       "17978  60      77           41        50      ...        42         42       \n",
       "17979  58      74           43        45      ...        49         43       \n",
       "17980  49      47           32        33      ...        31         21       \n",
       "\n",
       "      Sliding tackle Sprint speed Stamina Standing tackle Strength  Vision  \\\n",
       "0             23           91      92              31       80      85       \n",
       "1             26           87      73              28       59      90       \n",
       "2             33           90      78              24       53      80       \n",
       "3             38           77      89              45       80      84       \n",
       "4             11           61      44              10       83      70       \n",
       "...              ...          ...     ...             ...      ...     ...   \n",
       "17976         10           32      28              11       50      26       \n",
       "17977         13           25      32              12       47      17       \n",
       "17978         14           51      33              17       32      37       \n",
       "17979         47           58      49              48       46      51       \n",
       "17980         43           49      55              44       67      22       \n",
       "\n",
       "      Volleys Preferred Positions  \n",
       "0      88                  ST LW   \n",
       "1      85                     RW   \n",
       "2      83                     LW   \n",
       "3      88                     ST   \n",
       "4      11                     GK   \n",
       "...       ...                 ...  \n",
       "17976   6                     GK   \n",
       "17977  12                     GK   \n",
       "17978  33                     ST   \n",
       "17979  25                     CM   \n",
       "17980  19                  ST CB   \n",
       "\n",
       "[17981 rows x 39 columns]"
      ]
     },
     "execution_count": 6,
     "metadata": {},
     "output_type": "execute_result"
    }
   ],
   "source": [
    "fifa"
   ]
  },
  {
   "cell_type": "markdown",
   "id": "fdad4983",
   "metadata": {},
   "source": [
    "# Subsetting a dataframe"
   ]
  },
  {
   "cell_type": "markdown",
   "id": "e4312810",
   "metadata": {},
   "source": [
    "Here, we intend to 'cut-out' a section of the dataframe"
   ]
  },
  {
   "cell_type": "code",
   "execution_count": 7,
   "id": "1593ab37",
   "metadata": {},
   "outputs": [],
   "source": [
    "top_10 = fifa.loc[[i for i in range (0,10)],['Name','Age','Nationality']] #top 10 players according to the fifa ranking"
   ]
  },
  {
   "cell_type": "code",
   "execution_count": 8,
   "id": "3189126d",
   "metadata": {},
   "outputs": [
    {
     "data": {
      "text/html": [
       "<div>\n",
       "<style scoped>\n",
       "    .dataframe tbody tr th:only-of-type {\n",
       "        vertical-align: middle;\n",
       "    }\n",
       "\n",
       "    .dataframe tbody tr th {\n",
       "        vertical-align: top;\n",
       "    }\n",
       "\n",
       "    .dataframe thead th {\n",
       "        text-align: right;\n",
       "    }\n",
       "</style>\n",
       "<table border=\"1\" class=\"dataframe\">\n",
       "  <thead>\n",
       "    <tr style=\"text-align: right;\">\n",
       "      <th></th>\n",
       "      <th>Name</th>\n",
       "      <th>Age</th>\n",
       "      <th>Nationality</th>\n",
       "    </tr>\n",
       "  </thead>\n",
       "  <tbody>\n",
       "    <tr>\n",
       "      <th>0</th>\n",
       "      <td>Cristiano Ronaldo</td>\n",
       "      <td>32</td>\n",
       "      <td>Portugal</td>\n",
       "    </tr>\n",
       "    <tr>\n",
       "      <th>1</th>\n",
       "      <td>L. Messi</td>\n",
       "      <td>30</td>\n",
       "      <td>Argentina</td>\n",
       "    </tr>\n",
       "    <tr>\n",
       "      <th>2</th>\n",
       "      <td>Neymar</td>\n",
       "      <td>25</td>\n",
       "      <td>Brazil</td>\n",
       "    </tr>\n",
       "    <tr>\n",
       "      <th>3</th>\n",
       "      <td>L. Suárez</td>\n",
       "      <td>30</td>\n",
       "      <td>Uruguay</td>\n",
       "    </tr>\n",
       "    <tr>\n",
       "      <th>4</th>\n",
       "      <td>M. Neuer</td>\n",
       "      <td>31</td>\n",
       "      <td>Germany</td>\n",
       "    </tr>\n",
       "    <tr>\n",
       "      <th>5</th>\n",
       "      <td>R. Lewandowski</td>\n",
       "      <td>28</td>\n",
       "      <td>Poland</td>\n",
       "    </tr>\n",
       "    <tr>\n",
       "      <th>6</th>\n",
       "      <td>De Gea</td>\n",
       "      <td>26</td>\n",
       "      <td>Spain</td>\n",
       "    </tr>\n",
       "    <tr>\n",
       "      <th>7</th>\n",
       "      <td>E. Hazard</td>\n",
       "      <td>26</td>\n",
       "      <td>Belgium</td>\n",
       "    </tr>\n",
       "    <tr>\n",
       "      <th>8</th>\n",
       "      <td>T. Kroos</td>\n",
       "      <td>27</td>\n",
       "      <td>Germany</td>\n",
       "    </tr>\n",
       "    <tr>\n",
       "      <th>9</th>\n",
       "      <td>G. Higuaín</td>\n",
       "      <td>29</td>\n",
       "      <td>Argentina</td>\n",
       "    </tr>\n",
       "  </tbody>\n",
       "</table>\n",
       "</div>"
      ],
      "text/plain": [
       "                Name  Age Nationality\n",
       "0  Cristiano Ronaldo   32    Portugal\n",
       "1           L. Messi   30   Argentina\n",
       "2             Neymar   25      Brazil\n",
       "3          L. Suárez   30     Uruguay\n",
       "4           M. Neuer   31     Germany\n",
       "5     R. Lewandowski   28      Poland\n",
       "6             De Gea   26       Spain\n",
       "7          E. Hazard   26     Belgium\n",
       "8           T. Kroos   27     Germany\n",
       "9         G. Higuaín   29   Argentina"
      ]
     },
     "execution_count": 8,
     "metadata": {},
     "output_type": "execute_result"
    }
   ],
   "source": [
    "top_10"
   ]
  },
  {
   "cell_type": "markdown",
   "id": "63a4ab3b",
   "metadata": {},
   "source": [
    "# Filtering a dataframe"
   ]
  },
  {
   "cell_type": "markdown",
   "id": "f37398da",
   "metadata": {},
   "source": [
    "We can use specific comparism operators to filter our dataset"
   ]
  },
  {
   "cell_type": "code",
   "execution_count": 9,
   "id": "0ff65423",
   "metadata": {},
   "outputs": [
    {
     "data": {
      "text/html": [
       "<div>\n",
       "<style scoped>\n",
       "    .dataframe tbody tr th:only-of-type {\n",
       "        vertical-align: middle;\n",
       "    }\n",
       "\n",
       "    .dataframe tbody tr th {\n",
       "        vertical-align: top;\n",
       "    }\n",
       "\n",
       "    .dataframe thead th {\n",
       "        text-align: right;\n",
       "    }\n",
       "</style>\n",
       "<table border=\"1\" class=\"dataframe\">\n",
       "  <thead>\n",
       "    <tr style=\"text-align: right;\">\n",
       "      <th></th>\n",
       "      <th>Name</th>\n",
       "      <th>Age</th>\n",
       "      <th>Nationality</th>\n",
       "      <th>Overall</th>\n",
       "      <th>Acceleration</th>\n",
       "      <th>Aggression</th>\n",
       "      <th>Agility</th>\n",
       "      <th>Balance</th>\n",
       "      <th>Ball control</th>\n",
       "      <th>Composure</th>\n",
       "      <th>...</th>\n",
       "      <th>Short passing</th>\n",
       "      <th>Shot power</th>\n",
       "      <th>Sliding tackle</th>\n",
       "      <th>Sprint speed</th>\n",
       "      <th>Stamina</th>\n",
       "      <th>Standing tackle</th>\n",
       "      <th>Strength</th>\n",
       "      <th>Vision</th>\n",
       "      <th>Volleys</th>\n",
       "      <th>Preferred Positions</th>\n",
       "    </tr>\n",
       "  </thead>\n",
       "  <tbody>\n",
       "    <tr>\n",
       "      <th>0</th>\n",
       "      <td>Cristiano Ronaldo</td>\n",
       "      <td>32</td>\n",
       "      <td>Portugal</td>\n",
       "      <td>94</td>\n",
       "      <td>89</td>\n",
       "      <td>63</td>\n",
       "      <td>89</td>\n",
       "      <td>63</td>\n",
       "      <td>93</td>\n",
       "      <td>95</td>\n",
       "      <td>...</td>\n",
       "      <td>83</td>\n",
       "      <td>94</td>\n",
       "      <td>23</td>\n",
       "      <td>91</td>\n",
       "      <td>92</td>\n",
       "      <td>31</td>\n",
       "      <td>80</td>\n",
       "      <td>85</td>\n",
       "      <td>88</td>\n",
       "      <td>ST LW</td>\n",
       "    </tr>\n",
       "    <tr>\n",
       "      <th>1</th>\n",
       "      <td>L. Messi</td>\n",
       "      <td>30</td>\n",
       "      <td>Argentina</td>\n",
       "      <td>93</td>\n",
       "      <td>92</td>\n",
       "      <td>48</td>\n",
       "      <td>90</td>\n",
       "      <td>95</td>\n",
       "      <td>95</td>\n",
       "      <td>96</td>\n",
       "      <td>...</td>\n",
       "      <td>88</td>\n",
       "      <td>85</td>\n",
       "      <td>26</td>\n",
       "      <td>87</td>\n",
       "      <td>73</td>\n",
       "      <td>28</td>\n",
       "      <td>59</td>\n",
       "      <td>90</td>\n",
       "      <td>85</td>\n",
       "      <td>RW</td>\n",
       "    </tr>\n",
       "    <tr>\n",
       "      <th>2</th>\n",
       "      <td>Neymar</td>\n",
       "      <td>25</td>\n",
       "      <td>Brazil</td>\n",
       "      <td>92</td>\n",
       "      <td>94</td>\n",
       "      <td>56</td>\n",
       "      <td>96</td>\n",
       "      <td>82</td>\n",
       "      <td>95</td>\n",
       "      <td>92</td>\n",
       "      <td>...</td>\n",
       "      <td>81</td>\n",
       "      <td>80</td>\n",
       "      <td>33</td>\n",
       "      <td>90</td>\n",
       "      <td>78</td>\n",
       "      <td>24</td>\n",
       "      <td>53</td>\n",
       "      <td>80</td>\n",
       "      <td>83</td>\n",
       "      <td>LW</td>\n",
       "    </tr>\n",
       "    <tr>\n",
       "      <th>3</th>\n",
       "      <td>L. Suárez</td>\n",
       "      <td>30</td>\n",
       "      <td>Uruguay</td>\n",
       "      <td>92</td>\n",
       "      <td>88</td>\n",
       "      <td>78</td>\n",
       "      <td>86</td>\n",
       "      <td>60</td>\n",
       "      <td>91</td>\n",
       "      <td>83</td>\n",
       "      <td>...</td>\n",
       "      <td>83</td>\n",
       "      <td>87</td>\n",
       "      <td>38</td>\n",
       "      <td>77</td>\n",
       "      <td>89</td>\n",
       "      <td>45</td>\n",
       "      <td>80</td>\n",
       "      <td>84</td>\n",
       "      <td>88</td>\n",
       "      <td>ST</td>\n",
       "    </tr>\n",
       "    <tr>\n",
       "      <th>4</th>\n",
       "      <td>M. Neuer</td>\n",
       "      <td>31</td>\n",
       "      <td>Germany</td>\n",
       "      <td>92</td>\n",
       "      <td>58</td>\n",
       "      <td>29</td>\n",
       "      <td>52</td>\n",
       "      <td>35</td>\n",
       "      <td>48</td>\n",
       "      <td>70</td>\n",
       "      <td>...</td>\n",
       "      <td>55</td>\n",
       "      <td>25</td>\n",
       "      <td>11</td>\n",
       "      <td>61</td>\n",
       "      <td>44</td>\n",
       "      <td>10</td>\n",
       "      <td>83</td>\n",
       "      <td>70</td>\n",
       "      <td>11</td>\n",
       "      <td>GK</td>\n",
       "    </tr>\n",
       "  </tbody>\n",
       "</table>\n",
       "<p>5 rows × 39 columns</p>\n",
       "</div>"
      ],
      "text/plain": [
       "                Name  Age Nationality  Overall Acceleration Aggression  \\\n",
       "0  Cristiano Ronaldo   32    Portugal       94       89         63       \n",
       "1           L. Messi   30   Argentina       93       92         48       \n",
       "2             Neymar   25      Brazil       92       94         56       \n",
       "3          L. Suárez   30     Uruguay       92       88         78       \n",
       "4           M. Neuer   31     Germany       92       58         29       \n",
       "\n",
       "  Agility Balance Ball control Composure  ... Short passing Shot power  \\\n",
       "0  89      63           93        95      ...        83         94       \n",
       "1  90      95           95        96      ...        88         85       \n",
       "2  96      82           95        92      ...        81         80       \n",
       "3  86      60           91        83      ...        83         87       \n",
       "4  52      35           48        70      ...        55         25       \n",
       "\n",
       "  Sliding tackle Sprint speed Stamina Standing tackle Strength  Vision  \\\n",
       "0         23           91      92              31       80      85       \n",
       "1         26           87      73              28       59      90       \n",
       "2         33           90      78              24       53      80       \n",
       "3         38           77      89              45       80      84       \n",
       "4         11           61      44              10       83      70       \n",
       "\n",
       "  Volleys Preferred Positions  \n",
       "0  88                  ST LW   \n",
       "1  85                     RW   \n",
       "2  83                     LW   \n",
       "3  88                     ST   \n",
       "4  11                     GK   \n",
       "\n",
       "[5 rows x 39 columns]"
      ]
     },
     "execution_count": 9,
     "metadata": {},
     "output_type": "execute_result"
    }
   ],
   "source": [
    "#fifa['Overall']>=92\n",
    "top_rated = fifa[fifa['Overall']>=92] # returns a dataframe where only players with ratings at and more than 92 are captured\n",
    "top_rated"
   ]
  },
  {
   "cell_type": "markdown",
   "id": "5e8f941e",
   "metadata": {},
   "source": [
    "# Using the Groupby method"
   ]
  },
  {
   "cell_type": "markdown",
   "id": "aa179cab",
   "metadata": {},
   "source": [
    "Here, select filtering is done using the .groupby method"
   ]
  },
  {
   "cell_type": "code",
   "execution_count": 10,
   "id": "4a6f3027",
   "metadata": {},
   "outputs": [
    {
     "data": {
      "text/plain": [
       "Nationality\n",
       "Afghanistan            3\n",
       "Albania               35\n",
       "Algeria               57\n",
       "Angola                15\n",
       "Antigua & Barbuda      5\n",
       "                    ... \n",
       "Venezuela             51\n",
       "Vietnam                1\n",
       "Wales                123\n",
       "Zambia                 7\n",
       "Zimbabwe              11\n",
       "Name: Name, Length: 165, dtype: int64"
      ]
     },
     "execution_count": 10,
     "metadata": {},
     "output_type": "execute_result"
    }
   ],
   "source": [
    "countries = fifa.groupby('Nationality') ['Name'].count() #a dataframe grouped by nationality, where the names of players are counted\n",
    "countries"
   ]
  },
  {
   "cell_type": "markdown",
   "id": "59161475",
   "metadata": {},
   "source": [
    "# "
   ]
  },
  {
   "cell_type": "markdown",
   "id": "1d0a46c3",
   "metadata": {},
   "source": [
    "# "
   ]
  },
  {
   "cell_type": "markdown",
   "id": "91238930",
   "metadata": {},
   "source": [
    "# Data Visualization using Pandas"
   ]
  },
  {
   "cell_type": "markdown",
   "id": "c7bfcb51",
   "metadata": {},
   "source": [
    "We can use the Pandas library to visually depict relationships between groups of data."
   ]
  },
  {
   "cell_type": "markdown",
   "id": "c2615532",
   "metadata": {},
   "source": [
    "Histogram: used to represent the frequency distribution of a dataset. In our case we want to create a histogram using the first 500 players\n",
    "in our dataframe.\n",
    "\n"
   ]
  },
  {
   "cell_type": "code",
   "execution_count": 11,
   "id": "0c6c3c60",
   "metadata": {},
   "outputs": [],
   "source": [
    "fifa_500 = fifa.loc [0: 499]#.loc is used to subset a dataframe using index labels"
   ]
  },
  {
   "cell_type": "code",
   "execution_count": 12,
   "id": "294abf63",
   "metadata": {},
   "outputs": [
    {
     "data": {
      "text/plain": [
       "<AxesSubplot:ylabel='Frequency'>"
      ]
     },
     "execution_count": 12,
     "metadata": {},
     "output_type": "execute_result"
    },
    {
     "data": {
      "image/png": "[encoded data removed]",
      "text/plain": [
       "<Figure size 432x288 with 1 Axes>"
      ]
     },
     "metadata": {
      "needs_background": "light"
     },
     "output_type": "display_data"
    }
   ],
   "source": [
    "#Creating our histogram\n",
    "fifa_500['Overall'].plot (kind = 'hist') # a histogram is created using the overall column. From this histogram less than 10 players have rankings between 92 and 94  \n",
    "# A Histogram showing players overall ratings\n",
    "#The y-axis represents the Number of players\n",
    "#The x-axis represents the Players ratings\n"
   ]
  },
  {
   "cell_type": "markdown",
   "id": "c081d258",
   "metadata": {},
   "source": [
    "Scatter plots show the relationship between 2 variables. In this case, the age and overall ratings. "
   ]
  },
  {
   "cell_type": "code",
   "execution_count": 49,
   "id": "23ab5a59",
   "metadata": {},
   "outputs": [
    {
     "data": {
      "text/plain": [
       "<AxesSubplot:xlabel='Age', ylabel='Overall'>"
      ]
     },
     "execution_count": 49,
     "metadata": {},
     "output_type": "execute_result"
    },
    {
     "data": {
      "image/png": "[encoded data removed]",
      "text/plain": [
       "<Figure size 432x288 with 1 Axes>"
      ]
     },
     "metadata": {
      "needs_background": "light"
     },
     "output_type": "display_data"
    }
   ],
   "source": [
    "fifa_500.plot.scatter(x='Age', y='Overall') #a positive linear relationship exists between age and overall"
   ]
  },
  {
   "cell_type": "markdown",
   "id": "7227213c",
   "metadata": {},
   "source": [
    "A box plot displays the distribution of a dataset along the key statistical measures.\n",
    "The whole dataset is the range of the plot, the median is line in the center and 25 percentile is the lower margin of the box\n",
    "the 75 percentile is upper margin of the box."
   ]
  },
  {
   "cell_type": "code",
   "execution_count": 50,
   "id": "5938e7c2",
   "metadata": {},
   "outputs": [
    {
     "data": {
      "text/plain": [
       "<AxesSubplot:>"
      ]
     },
     "execution_count": 50,
     "metadata": {},
     "output_type": "execute_result"
    },
    {
     "data": {
      "image/png": "[encoded data removed]",
      "text/plain": [
       "<Figure size 432x288 with 1 Axes>"
      ]
     },
     "metadata": {
      "needs_background": "light"
     },
     "output_type": "display_data"
    }
   ],
   "source": [
    "fifa_500['Age'].plot.box()#a box plot created with the age column"
   ]
  },
  {
   "cell_type": "code",
   "execution_count": null,
   "id": "c29d51a6",
   "metadata": {},
   "outputs": [],
   "source": []
  }
 ],
 "metadata": {
  "kernelspec": {
   "display_name": "Python 3",
   "language": "python",
   "name": "python3"
  },
  "language_info": {
   "codemirror_mode": {
    "name": "ipython",
    "version": 3
   },
   "file_extension": ".py",
   "mimetype": "text/x-python",
   "name": "python",
   "nbconvert_exporter": "python",
   "pygments_lexer": "ipython3",
   "version": "3.8.8"
  }
 },
 "nbformat": 4,
 "nbformat_minor": 5
}
